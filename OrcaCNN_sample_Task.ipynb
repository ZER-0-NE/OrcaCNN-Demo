{
  "nbformat": 4,
  "nbformat_minor": 0,
  "metadata": {
    "colab": {
      "name": "OrcaCNN sample Task",
      "version": "0.3.2",
      "provenance": [],
      "collapsed_sections": [],
      "include_colab_link": true
    },
    "kernelspec": {
      "name": "python3",
      "display_name": "Python 3"
    },
    "accelerator": "GPU"
  },
  "cells": [
    {
      "cell_type": "markdown",
      "metadata": {
        "id": "view-in-github",
        "colab_type": "text"
      },
      "source": [
        "<a href=\"https://colab.research.google.com/github/ZER-0-NE/OrcaCNN-Demo/blob/master/OrcaCNN_sample_Task.ipynb\" target=\"_parent\"><img src=\"https://colab.research.google.com/assets/colab-badge.svg\" alt=\"Open In Colab\"/></a>"
      ]
    },
    {
      "metadata": {
        "id": "rYnS4zJdJqcL",
        "colab_type": "code",
        "outputId": "fbf7a6b6-bc3b-4dc5-dc44-989cdee1517e",
        "colab": {
          "base_uri": "https://localhost:8080/",
          "height": 119
        }
      },
      "cell_type": "code",
      "source": [
        "!git clone https://github.com/axiom-data-science/OrcaCNN-data.git"
      ],
      "execution_count": 0,
      "outputs": [
        {
          "output_type": "stream",
          "text": [
            "Cloning into 'OrcaCNN-data'...\n",
            "remote: Enumerating objects: 59, done.\u001b[K\n",
            "remote: Counting objects:   1% (1/59)   \u001b[K\rremote: Counting objects:   3% (2/59)   \u001b[K\rremote: Counting objects:   5% (3/59)   \u001b[K\rremote: Counting objects:   6% (4/59)   \u001b[K\rremote: Counting objects:   8% (5/59)   \u001b[K\rremote: Counting objects:  10% (6/59)   \u001b[K\rremote: Counting objects:  11% (7/59)   \u001b[K\rremote: Counting objects:  13% (8/59)   \u001b[K\rremote: Counting objects:  15% (9/59)   \u001b[K\rremote: Counting objects:  16% (10/59)   \u001b[K\rremote: Counting objects:  18% (11/59)   \u001b[K\rremote: Counting objects:  20% (12/59)   \u001b[K\rremote: Counting objects:  22% (13/59)   \u001b[K\rremote: Counting objects:  23% (14/59)   \u001b[K\rremote: Counting objects:  25% (15/59)   \u001b[K\rremote: Counting objects:  27% (16/59)   \u001b[K\rremote: Counting objects:  28% (17/59)   \u001b[K\rremote: Counting objects:  30% (18/59)   \u001b[K\rremote: Counting objects:  32% (19/59)   \u001b[K\rremote: Counting objects:  33% (20/59)   \u001b[K\rremote: Counting objects:  35% (21/59)   \u001b[K\rremote: Counting objects:  37% (22/59)   \u001b[K\rremote: Counting objects:  38% (23/59)   \u001b[K\rremote: Counting objects:  40% (24/59)   \u001b[K\rremote: Counting objects:  42% (25/59)   \u001b[K\rremote: Counting objects:  44% (26/59)   \u001b[K\rremote: Counting objects:  45% (27/59)   \u001b[K\rremote: Counting objects:  47% (28/59)   \u001b[K\rremote: Counting objects:  49% (29/59)   \u001b[K\rremote: Counting objects:  50% (30/59)   \u001b[K\rremote: Counting objects:  52% (31/59)   \u001b[K\rremote: Counting objects:  54% (32/59)   \u001b[K\rremote: Counting objects:  55% (33/59)   \u001b[K\rremote: Counting objects:  57% (34/59)   \u001b[K\rremote: Counting objects:  59% (35/59)   \u001b[K\rremote: Counting objects:  61% (36/59)   \u001b[K\rremote: Counting objects:  62% (37/59)   \u001b[K\rremote: Counting objects:  64% (38/59)   \u001b[K\rremote: Counting objects:  66% (39/59)   \u001b[K\rremote: Counting objects:  67% (40/59)   \u001b[K\rremote: Counting objects:  69% (41/59)   \u001b[K\rremote: Counting objects:  71% (42/59)   \u001b[K\rremote: Counting objects:  72% (43/59)   \u001b[K\rremote: Counting objects:  74% (44/59)   \u001b[K\rremote: Counting objects:  76% (45/59)   \u001b[K\rremote: Counting objects:  77% (46/59)   \u001b[K\rremote: Counting objects:  79% (47/59)   \u001b[K\rremote: Counting objects:  81% (48/59)   \u001b[K\rremote: Counting objects:  83% (49/59)   \u001b[K\rremote: Counting objects:  84% (50/59)   \u001b[K\rremote: Counting objects:  86% (51/59)   \u001b[K\rremote: Counting objects:  88% (52/59)   \u001b[K\rremote: Counting objects:  89% (53/59)   \u001b[K\rremote: Counting objects:  91% (54/59)   \u001b[K\rremote: Counting objects:  93% (55/59)   \u001b[K\rremote: Counting objects:  94% (56/59)   \u001b[K\rremote: Counting objects:  96% (57/59)   \u001b[K\rremote: Counting objects:  98% (58/59)   \u001b[K\rremote: Counting objects: 100% (59/59)   \u001b[K\rremote: Counting objects: 100% (59/59), done.\u001b[K\n",
            "remote: Compressing objects: 100% (58/58), done.\u001b[K\n",
            "remote: Total 59 (delta 0), reused 56 (delta 0), pack-reused 0\u001b[K\n",
            "Unpacking objects: 100% (59/59), done.\n"
          ],
          "name": "stdout"
        }
      ]
    },
    {
      "metadata": {
        "id": "zq5p6Dd1hgBb",
        "colab_type": "code",
        "outputId": "933963db-f967-4f23-de9b-27f26a34032f",
        "colab": {
          "base_uri": "https://localhost:8080/",
          "height": 102
        }
      },
      "cell_type": "code",
      "source": [
        "!git clone https://github.com/drscotthawley/panotti.git"
      ],
      "execution_count": 0,
      "outputs": [
        {
          "output_type": "stream",
          "text": [
            "Cloning into 'panotti'...\n",
            "remote: Enumerating objects: 1193, done.\u001b[K\n",
            "Receiving objects:   0% (1/1193)   \rReceiving objects:   1% (12/1193)   \rReceiving objects:   2% (24/1193)   \rReceiving objects:   3% (36/1193)   \rReceiving objects:   4% (48/1193)   \rReceiving objects:   5% (60/1193)   \rReceiving objects:   6% (72/1193)   \rReceiving objects:   7% (84/1193)   \rReceiving objects:   8% (96/1193)   \rReceiving objects:   9% (108/1193)   \rReceiving objects:  10% (120/1193)   \rReceiving objects:  11% (132/1193)   \rReceiving objects:  12% (144/1193)   \rReceiving objects:  13% (156/1193)   \rReceiving objects:  14% (168/1193)   \rReceiving objects:  15% (179/1193)   \rReceiving objects:  16% (191/1193)   \rReceiving objects:  17% (203/1193)   \rReceiving objects:  18% (215/1193)   \rReceiving objects:  19% (227/1193)   \rReceiving objects:  20% (239/1193)   \rReceiving objects:  21% (251/1193)   \rReceiving objects:  22% (263/1193)   \rReceiving objects:  23% (275/1193)   \rReceiving objects:  24% (287/1193)   \rReceiving objects:  25% (299/1193)   \rReceiving objects:  26% (311/1193)   \rReceiving objects:  27% (323/1193)   \rReceiving objects:  28% (335/1193)   \rReceiving objects:  29% (346/1193)   \rReceiving objects:  30% (358/1193)   \rReceiving objects:  31% (370/1193)   \rReceiving objects:  32% (382/1193)   \rReceiving objects:  33% (394/1193)   \rReceiving objects:  34% (406/1193)   \rReceiving objects:  35% (418/1193)   \rReceiving objects:  36% (430/1193)   \rReceiving objects:  37% (442/1193)   \rReceiving objects:  38% (454/1193)   \rReceiving objects:  39% (466/1193)   \rReceiving objects:  40% (478/1193)   \rReceiving objects:  41% (490/1193)   \rReceiving objects:  42% (502/1193)   \rReceiving objects:  43% (513/1193)   \rReceiving objects:  44% (525/1193)   \rReceiving objects:  45% (537/1193)   \rReceiving objects:  46% (549/1193)   \rReceiving objects:  47% (561/1193)   \rReceiving objects:  48% (573/1193)   \rReceiving objects:  49% (585/1193)   \rReceiving objects:  50% (597/1193)   \rReceiving objects:  51% (609/1193)   \rReceiving objects:  52% (621/1193)   \rReceiving objects:  53% (633/1193)   \rReceiving objects:  54% (645/1193)   \rReceiving objects:  55% (657/1193)   \rReceiving objects:  56% (669/1193)   \rReceiving objects:  57% (681/1193)   \rReceiving objects:  58% (692/1193)   \rReceiving objects:  59% (704/1193)   \rReceiving objects:  60% (716/1193)   \rReceiving objects:  61% (728/1193)   \rReceiving objects:  62% (740/1193)   \rremote: Total 1193 (delta 0), reused 0 (delta 0), pack-reused 1193\u001b[K\n",
            "Receiving objects:  63% (752/1193)   \rReceiving objects:  64% (764/1193)   \rReceiving objects:  65% (776/1193)   \rReceiving objects:  66% (788/1193)   \rReceiving objects:  67% (800/1193)   \rReceiving objects:  68% (812/1193)   \rReceiving objects:  69% (824/1193)   \rReceiving objects:  70% (836/1193)   \rReceiving objects:  71% (848/1193)   \rReceiving objects:  72% (859/1193)   \rReceiving objects:  73% (871/1193)   \rReceiving objects:  74% (883/1193)   \rReceiving objects:  75% (895/1193)   \rReceiving objects:  76% (907/1193)   \rReceiving objects:  77% (919/1193)   \rReceiving objects:  78% (931/1193)   \rReceiving objects:  79% (943/1193)   \rReceiving objects:  80% (955/1193)   \rReceiving objects:  81% (967/1193)   \rReceiving objects:  82% (979/1193)   \rReceiving objects:  83% (991/1193)   \rReceiving objects:  84% (1003/1193)   \rReceiving objects:  85% (1015/1193)   \rReceiving objects:  86% (1026/1193)   \rReceiving objects:  87% (1038/1193)   \rReceiving objects:  88% (1050/1193)   \rReceiving objects:  89% (1062/1193)   \rReceiving objects:  90% (1074/1193)   \rReceiving objects:  91% (1086/1193)   \rReceiving objects:  92% (1098/1193)   \rReceiving objects:  93% (1110/1193)   \rReceiving objects:  94% (1122/1193)   \rReceiving objects:  95% (1134/1193)   \rReceiving objects:  96% (1146/1193)   \rReceiving objects:  97% (1158/1193)   \rReceiving objects:  98% (1170/1193)   \rReceiving objects:  99% (1182/1193)   \rReceiving objects: 100% (1193/1193)   \rReceiving objects: 100% (1193/1193), 1.39 MiB | 16.79 MiB/s, done.\n",
            "Resolving deltas:   0% (0/773)   \rResolving deltas:  11% (90/773)   \rResolving deltas:  14% (110/773)   \rResolving deltas:  17% (137/773)   \rResolving deltas:  18% (142/773)   \rResolving deltas:  19% (148/773)   \rResolving deltas:  20% (161/773)   \rResolving deltas:  21% (170/773)   \rResolving deltas:  22% (172/773)   \rResolving deltas:  24% (186/773)   \rResolving deltas:  25% (195/773)   \rResolving deltas:  26% (201/773)   \rResolving deltas:  29% (225/773)   \rResolving deltas:  31% (243/773)   \rResolving deltas:  32% (250/773)   \rResolving deltas:  33% (260/773)   \rResolving deltas:  34% (263/773)   \rResolving deltas:  35% (272/773)   \rResolving deltas:  36% (282/773)   \rResolving deltas:  37% (288/773)   \rResolving deltas:  39% (306/773)   \rResolving deltas:  40% (312/773)   \rResolving deltas:  42% (332/773)   \rResolving deltas:  43% (334/773)   \rResolving deltas:  45% (348/773)   \rResolving deltas:  46% (360/773)   \rResolving deltas:  47% (365/773)   \rResolving deltas:  48% (375/773)   \rResolving deltas:  49% (382/773)   \rResolving deltas:  50% (394/773)   \rResolving deltas:  53% (411/773)   \rResolving deltas:  57% (442/773)   \rResolving deltas:  59% (458/773)   \rResolving deltas:  62% (484/773)   \rResolving deltas:  63% (494/773)   \rResolving deltas:  64% (497/773)   \rResolving deltas:  65% (509/773)   \rResolving deltas:  67% (521/773)   \rResolving deltas:  84% (655/773)   \rResolving deltas:  85% (661/773)   \rResolving deltas:  86% (667/773)   \rResolving deltas:  87% (675/773)   \rResolving deltas:  88% (687/773)   \rResolving deltas:  89% (688/773)   \rResolving deltas:  90% (696/773)   \rResolving deltas:  92% (718/773)   \rResolving deltas:  93% (720/773)   \rResolving deltas:  94% (729/773)   \rResolving deltas:  95% (737/773)   \rResolving deltas:  97% (756/773)   \rResolving deltas:  98% (759/773)   \rResolving deltas:  99% (766/773)   \rResolving deltas: 100% (773/773)   \rResolving deltas: 100% (773/773), done.\n"
          ],
          "name": "stdout"
        }
      ]
    },
    {
      "metadata": {
        "id": "qZESbfnRKj69",
        "colab_type": "code",
        "outputId": "5a4d1622-dd53-40e7-b6cb-b4d0dbb65c34",
        "colab": {
          "base_uri": "https://localhost:8080/",
          "height": 343
        }
      },
      "cell_type": "code",
      "source": [
        "\n",
        "from google.colab import auth\n",
        "auth.authenticate_user()\n",
        "\n",
        "!pip install PyDrive\n",
        "\n",
        "from pydrive.auth import GoogleAuth\n",
        "from pydrive.drive import GoogleDrive\n",
        "from google.colab import auth\n",
        "from oauth2client.client import GoogleCredentials\n",
        "\n",
        "# Authenticate and create the PyDrive client.\n",
        "# This only needs to be done once in a notebook.\n",
        "auth.authenticate_user()\n",
        "gauth = GoogleAuth()\n",
        "gauth.credentials = GoogleCredentials.get_application_default()\n",
        "drive = GoogleDrive(gauth)"
      ],
      "execution_count": 0,
      "outputs": [
        {
          "output_type": "stream",
          "text": [
            "Collecting PyDrive\n",
            "\u001b[?25l  Downloading https://files.pythonhosted.org/packages/52/e0/0e64788e5dd58ce2d6934549676243dc69d982f198524be9b99e9c2a4fd5/PyDrive-1.3.1.tar.gz (987kB)\n",
            "\u001b[K    100% |████████████████████████████████| 993kB 22.3MB/s \n",
            "\u001b[?25hRequirement already satisfied: google-api-python-client>=1.2 in /usr/local/lib/python3.6/dist-packages (from PyDrive) (1.6.7)\n",
            "Requirement already satisfied: oauth2client>=4.0.0 in /usr/local/lib/python3.6/dist-packages (from PyDrive) (4.1.3)\n",
            "Requirement already satisfied: PyYAML>=3.0 in /usr/local/lib/python3.6/dist-packages (from PyDrive) (3.13)\n",
            "Requirement already satisfied: uritemplate<4dev,>=3.0.0 in /usr/local/lib/python3.6/dist-packages (from google-api-python-client>=1.2->PyDrive) (3.0.0)\n",
            "Requirement already satisfied: six<2dev,>=1.6.1 in /usr/local/lib/python3.6/dist-packages (from google-api-python-client>=1.2->PyDrive) (1.11.0)\n",
            "Requirement already satisfied: httplib2<1dev,>=0.9.2 in /usr/local/lib/python3.6/dist-packages (from google-api-python-client>=1.2->PyDrive) (0.11.3)\n",
            "Requirement already satisfied: rsa>=3.1.4 in /usr/local/lib/python3.6/dist-packages (from oauth2client>=4.0.0->PyDrive) (4.0)\n",
            "Requirement already satisfied: pyasn1>=0.1.7 in /usr/local/lib/python3.6/dist-packages (from oauth2client>=4.0.0->PyDrive) (0.4.5)\n",
            "Requirement already satisfied: pyasn1-modules>=0.0.5 in /usr/local/lib/python3.6/dist-packages (from oauth2client>=4.0.0->PyDrive) (0.2.4)\n",
            "Building wheels for collected packages: PyDrive\n",
            "  Building wheel for PyDrive (setup.py) ... \u001b[?25ldone\n",
            "\u001b[?25h  Stored in directory: /root/.cache/pip/wheels/fa/d2/9a/d3b6b506c2da98289e5d417215ce34b696db856643bad779f4\n",
            "Successfully built PyDrive\n",
            "Installing collected packages: PyDrive\n",
            "Successfully installed PyDrive-1.3.1\n"
          ],
          "name": "stdout"
        }
      ]
    },
    {
      "metadata": {
        "id": "hvgFmaZnS2vp",
        "colab_type": "code",
        "outputId": "ebf8f2c6-aae9-47f6-ab1c-5688965c7bee",
        "colab": {
          "base_uri": "https://localhost:8080/",
          "height": 34
        }
      },
      "cell_type": "code",
      "source": [
        "\n",
        "fileId = drive.CreateFile({'id': '1j9Jwiz0GaEhGnwAzg1Arnl_sCc8fXwTX'}) #DRIVE_FILE_ID is file id example: 1iytA1n2z4go3uVCwE_vIKouTKyIDjEq\n",
        "print(fileId['title'])  # folder_data.zip\n",
        "fileId.GetContentFile('orca.zip')  # Save Drive file as a local file"
      ],
      "execution_count": 0,
      "outputs": [
        {
          "output_type": "stream",
          "text": [
            "orca_data.zip\n"
          ],
          "name": "stdout"
        }
      ]
    },
    {
      "metadata": {
        "id": "OgiFjpkXZ3Zd",
        "colab_type": "code",
        "outputId": "04e2f28f-2f44-4dee-a02a-08dbeb028262",
        "colab": {
          "base_uri": "https://localhost:8080/",
          "height": 816
        }
      },
      "cell_type": "code",
      "source": [
        "!unzip orca.zip"
      ],
      "execution_count": 0,
      "outputs": [
        {
          "output_type": "stream",
          "text": [
            "Archive:  orca.zip\n",
            "   creating: test/\n",
            "  inflating: test/pos_00.wav         \n",
            "  inflating: test/pos_01.wav         \n",
            "  inflating: test/pos_02.wav         \n",
            "  inflating: test/pos_03.wav         \n",
            "  inflating: test/pos_04.wav         \n",
            "  inflating: test/neg_00.wav         \n",
            "  inflating: test/neg_01.wav         \n",
            "  inflating: test/neg_02.wav         \n",
            "  inflating: test/neg_03.wav         \n",
            "  inflating: test/neg_04.wav         \n",
            "   creating: training_/\n",
            "  inflating: training_/neg_05.wav    \n",
            "  inflating: training_/neg_06.wav    \n",
            "  inflating: training_/neg_07.wav    \n",
            "  inflating: training_/neg_08.wav    \n",
            "  inflating: training_/neg_09.wav    \n",
            "  inflating: training_/neg_10.wav    \n",
            "  inflating: training_/neg_11.wav    \n",
            "  inflating: training_/neg_12.wav    \n",
            "  inflating: training_/neg_13.wav    \n",
            "  inflating: training_/neg_14.wav    \n",
            "  inflating: training_/neg_15.wav    \n",
            "  inflating: training_/neg_16.wav    \n",
            "  inflating: training_/neg_17.wav    \n",
            "  inflating: training_/neg_18.wav    \n",
            "  inflating: training_/neg_19.wav    \n",
            "  inflating: training_/neg_20.wav    \n",
            "  inflating: training_/neg_21.wav    \n",
            "  inflating: training_/neg_22.wav    \n",
            "  inflating: training_/neg_23.wav    \n",
            "  inflating: training_/neg_24.wav    \n",
            "  inflating: training_/pos_05.wav    \n",
            "  inflating: training_/pos_06.wav    \n",
            "  inflating: training_/pos_07.wav    \n",
            "  inflating: training_/pos_08.wav    \n",
            "  inflating: training_/pos_09.wav    \n",
            "  inflating: training_/pos_10.wav    \n",
            "  inflating: training_/pos_11.wav    \n",
            "  inflating: training_/pos_12.wav    \n",
            "  inflating: training_/pos_13.wav    \n",
            "  inflating: training_/pos_14.wav    \n",
            "  inflating: training_/pos_15.wav    \n",
            "  inflating: training_/pos_16.wav    \n",
            "  inflating: training_/pos_17.wav    \n",
            "  inflating: training_/pos_18.wav    \n"
          ],
          "name": "stdout"
        }
      ]
    },
    {
      "metadata": {
        "id": "nd6phtfGKr5L",
        "colab_type": "code",
        "outputId": "e0ebc797-1318-4822-f953-5a7d643c64b7",
        "colab": {
          "base_uri": "https://localhost:8080/",
          "height": 34
        }
      },
      "cell_type": "code",
      "source": [
        "fileId = drive.CreateFile({'id': '1cYpcYmg8eZ5WgTtqgW-tnNaU6vdUGx0S'}) #DRIVE_FILE_ID is file id example: 1iytA1n2z4go3uVCwE_vIKouTKyIDjEq\n",
        "print(fileId['title'])  # folder_data.zip\n",
        "fileId.GetContentFile('training.zip')  # Save Drive file as a local file"
      ],
      "execution_count": 0,
      "outputs": [
        {
          "output_type": "stream",
          "text": [
            "training.zip\n"
          ],
          "name": "stdout"
        }
      ]
    },
    {
      "metadata": {
        "id": "JsYNhesaLjn4",
        "colab_type": "code",
        "outputId": "87984e45-47b0-4bea-d6f6-af827cc0cad0",
        "colab": {
          "base_uri": "https://localhost:8080/",
          "height": 799
        }
      },
      "cell_type": "code",
      "source": [
        "!unzip training.zip"
      ],
      "execution_count": 0,
      "outputs": [
        {
          "output_type": "stream",
          "text": [
            "Archive:  training.zip\n",
            "   creating: training/\n",
            "  inflating: training/neg_00.wav     \n",
            "  inflating: training/neg_01.wav     \n",
            "  inflating: training/neg_02.wav     \n",
            "  inflating: training/neg_03.wav     \n",
            "  inflating: training/neg_04.wav     \n",
            "  inflating: training/neg_05.wav     \n",
            "  inflating: training/neg_06.wav     \n",
            "  inflating: training/neg_07.wav     \n",
            "  inflating: training/neg_08.wav     \n",
            "  inflating: training/neg_09.wav     \n",
            "  inflating: training/neg_10.wav     \n",
            "  inflating: training/neg_11.wav     \n",
            "  inflating: training/neg_12.wav     \n",
            "  inflating: training/neg_13.wav     \n",
            "  inflating: training/neg_14.wav     \n",
            "  inflating: training/neg_15.wav     \n",
            "  inflating: training/neg_16.wav     \n",
            "  inflating: training/neg_17.wav     \n",
            "  inflating: training/neg_18.wav     \n",
            "  inflating: training/neg_19.wav     \n",
            "  inflating: training/neg_20.wav     \n",
            "  inflating: training/neg_21.wav     \n",
            "  inflating: training/neg_22.wav     \n",
            "  inflating: training/neg_23.wav     \n",
            "  inflating: training/neg_24.wav     \n",
            "  inflating: training/pos_00.wav     \n",
            "  inflating: training/pos_01.wav     \n",
            "  inflating: training/pos_02.wav     \n",
            "  inflating: training/pos_03.wav     \n",
            "  inflating: training/pos_04.wav     \n",
            "  inflating: training/pos_05.wav     \n",
            "  inflating: training/pos_06.wav     \n",
            "  inflating: training/pos_07.wav     \n",
            "  inflating: training/pos_08.wav     \n",
            "  inflating: training/pos_09.wav     \n",
            "  inflating: training/pos_10.wav     \n",
            "  inflating: training/pos_11.wav     \n",
            "  inflating: training/pos_12.wav     \n",
            "  inflating: training/pos_13.wav     \n",
            "  inflating: training/pos_14.wav     \n",
            "  inflating: training/pos_15.wav     \n",
            "  inflating: training/pos_16.wav     \n",
            "  inflating: training/pos_17.wav     \n",
            "  inflating: training/pos_18.wav     \n"
          ],
          "name": "stdout"
        }
      ]
    },
    {
      "metadata": {
        "id": "yW0yk34MS64O",
        "colab_type": "code",
        "outputId": "3100b9bc-9055-427d-b87c-098422dbf828",
        "colab": {
          "base_uri": "https://localhost:8080/",
          "height": 34
        }
      },
      "cell_type": "code",
      "source": [
        "\n",
        "import numpy as np\n",
        "import wave\n",
        "\n",
        "import matplotlib.pyplot as plt\n",
        "%matplotlib inline\n",
        "\n",
        "from glob import glob\n",
        "import random\n",
        "\n",
        "import struct\n",
        "\n",
        "from keras.models import *\n",
        "from keras.layers import *\n",
        "from keras.callbacks import *\n",
        "\n",
        "DATA_DIR = 'OrcaCNN-data/data/training'\n",
        "\n",
        "RUN = 1"
      ],
      "execution_count": 0,
      "outputs": [
        {
          "output_type": "stream",
          "text": [
            "Using TensorFlow backend.\n"
          ],
          "name": "stderr"
        }
      ]
    },
    {
      "metadata": {
        "id": "bPsrtxbZt_f5",
        "colab_type": "code",
        "colab": {}
      },
      "cell_type": "code",
      "source": [
        "import os\n",
        "from os.path import isdir, join\n",
        "from pathlib import Path\n",
        "import pandas as pd\n",
        "\n",
        "# Math\n",
        "import numpy as np\n",
        "from scipy.fftpack import fft\n",
        "from scipy import signal\n",
        "from scipy.io import wavfile\n",
        "import librosa\n",
        "\n",
        "from sklearn.decomposition import PCA\n",
        "\n",
        "# Visualization\n",
        "import matplotlib.pyplot as plt\n",
        "import seaborn as sns\n",
        "import IPython.display as ipd\n",
        "import librosa.display\n",
        "\n",
        "import plotly.offline as py\n",
        "py.init_notebook_mode(connected=True)\n",
        "import plotly.graph_objs as go\n",
        "import plotly.tools as tls\n",
        "import pandas as pd\n",
        "\n",
        "%matplotlib inline\n",
        "\n",
        "filename = 'OrcaCNN-data/data/training/positive/14.wav'\n",
        "sample_rate, samples = wavfile.read(filename)\n",
        "\n",
        "def log_specgram(audio, sample_rate, window_size=20,\n",
        "                 step_size=10, eps=1e-10):\n",
        "    nperseg = int(round(window_size * sample_rate / 1e3))\n",
        "    noverlap = int(round(step_size * sample_rate / 1e3))\n",
        "    freqs, times, spec = signal.spectrogram(audio,\n",
        "                                    fs=sample_rate,\n",
        "                                    window='hann',\n",
        "                                    nperseg=nperseg,\n",
        "                                    noverlap=noverlap,\n",
        "                                    detrend=False)\n",
        "    return freqs, times, np.log(spec.T.astype(np.float32) + eps)\n",
        "\n",
        "freqs, times, spectrogram = log_specgram(samples, sample_rate)\n",
        "\n",
        "fig = plt.figure(figsize=(14, 8))\n",
        "ax1 = fig.add_subplot(211)\n",
        "ax1.set_title('Raw wave of ' + filename)\n",
        "ax1.set_ylabel('Amplitude')\n",
        "ax1.plot(np.linspace(0, sample_rate/len(samples), sample_rate), samples)\n",
        "\n",
        "ax2 = fig.add_subplot(212)\n",
        "ax2.imshow(spectrogram.T, aspect='auto', origin='lower', \n",
        "           extent=[times.min(), times.max(), freqs.min(), freqs.max()])\n",
        "ax2.set_yticks(freqs[::16])\n",
        "ax2.set_xticks(times[::16])\n",
        "ax2.set_title('Spectrogram of ' + filename)\n",
        "ax2.set_ylabel('Freqs in Hz')\n",
        "ax2.set_xlabel('Seconds')\n",
        "\n",
        "\n",
        "mean = np.mean(spectrogram, axis=0)\n",
        "std = np.std(spectrogram, axis=0)\n",
        "spectrogram = (spectrogram - mean) / std\n",
        "\n",
        "data = [go.Surface(z=spectrogram.T)]\n",
        "layout = go.Layout(\n",
        "    title='Specgtrogram of \"yes\" in 3d',\n",
        "    scene = dict(\n",
        "    yaxis = dict(title='Frequencies', range=freqs),\n",
        "    xaxis = dict(title='Time', range=times),\n",
        "    zaxis = dict(title='Log amplitude'),\n",
        "    ),\n",
        ")\n",
        "fig = go.Figure(data=data, layout=layout)\n",
        "py.iplot(fig)"
      ],
      "execution_count": 0,
      "outputs": []
    },
    {
      "metadata": {
        "id": "Ik6HSji7I7mG",
        "colab_type": "code",
        "outputId": "ed5da2a0-ddcc-4dcb-b08d-7e27f6002a0a",
        "colab": {
          "base_uri": "https://localhost:8080/",
          "height": 464
        }
      },
      "cell_type": "code",
      "source": [
        "test_file = \"OrcaCNN-data/data/training/positive/10.wav\"\n",
        "\n",
        "with wave.open(test_file, 'rb') as f:\n",
        "    params = f.getparams()\n",
        "    nchannels, sampwidth, framerate, nframes = params[:4]\n",
        "#     print(nchannels, sampwidth, framerate, nframes) \n",
        "    strData = f.readframes(nframes)\n",
        "#     print(type(strData)) # <class 'bytes'>\n",
        "#     print(strData[:20]) \n",
        "\n",
        "waveData = np.fromstring(strData, dtype=np.int16)\n",
        "# print(waveData[:20]) # [ -1 -22 -29 -17 -10 -14 -19 -18 -18 -21 -11 8]\n",
        "\n",
        "waveData_norm = waveData * 1.0 / (max(abs(waveData)))\n",
        "#     print(type(waveData_norm)) #<class 'numpy.ndarray'>\n",
        "#     print(waveData_norm[:20]) \n",
        "print(waveData_norm.shape) # (67072,)\n",
        "\n",
        "time = np.arange(0, nframes)*(1.0 / framerate)\n",
        "plt.plot(time, waveData_norm)\n",
        "plt.xlabel(\"Time(s)\")\n",
        "plt.ylabel(\"Amplitude\")\n",
        "plt.title(\"Single channel wavedata\")\n",
        "plt.grid('on')\n",
        "plt.show()"
      ],
      "execution_count": 0,
      "outputs": [
        {
          "output_type": "stream",
          "text": [
            "/usr/local/lib/python3.6/dist-packages/ipykernel_launcher.py:11: DeprecationWarning:\n",
            "\n",
            "The binary mode of fromstring is deprecated, as it behaves surprisingly on unicode inputs. Use frombuffer instead\n",
            "\n",
            "/usr/local/lib/python3.6/dist-packages/matplotlib/cbook/__init__.py:424: MatplotlibDeprecationWarning:\n",
            "\n",
            "\n",
            "Passing one of 'on', 'true', 'off', 'false' as a boolean is deprecated; use an actual boolean (True/False) instead.\n",
            "\n"
          ],
          "name": "stderr"
        },
        {
          "output_type": "stream",
          "text": [
            "(67072,)\n"
          ],
          "name": "stdout"
        },
        {
          "output_type": "display_data",
          "data": {
            "image/png": "[encoded data removed]",
            "text/plain": [
              "<Figure size 432x288 with 1 Axes>"
            ]
          },
          "metadata": {
            "tags": []
          }
        }
      ]
    },
    {
      "metadata": {
        "id": "OkWI0JCO58iR",
        "colab_type": "code",
        "outputId": "3d85bca7-cc77-4304-fd17-a95215a37fec",
        "colab": {
          "base_uri": "https://localhost:8080/",
          "height": 294
        }
      },
      "cell_type": "code",
      "source": [
        "import matplotlib.pyplot as plot\n",
        "\n",
        "from scipy.io import wavfile\n",
        "\n",
        " \n",
        "# Read the wav file (mono)\n",
        "\n",
        "samplingFrequency, signalData = wavfile.read('OrcaCNN-data/data/long_samples/long_sample_01.wav')\n",
        "\n",
        " \n",
        "\n",
        "# Plot the signal read from wav file\n",
        "\n",
        "plot.subplot(211)\n",
        "\n",
        "plot.title('Spectrogram of a wav file with whale call')\n",
        "\n",
        " \n",
        "plot.plot(signalData)\n",
        "\n",
        "plot.xlabel('Sample')\n",
        "\n",
        "plot.ylabel('Amplitude')\n",
        "\n",
        " \n",
        "\n",
        "plot.subplot(212)\n",
        "\n",
        "plot.specgram(signalData,Fs=samplingFrequency)\n",
        "\n",
        "plot.xlabel('Time')\n",
        "\n",
        "plot.ylabel('Frequency')\n",
        "\n",
        " \n",
        "\n",
        "plot.show()"
      ],
      "execution_count": 0,
      "outputs": [
        {
          "output_type": "display_data",
          "data": {
            "image/png": "[encoded data removed]",
            "text/plain": [
              "<Figure size 432x288 with 2 Axes>"
            ]
          },
          "metadata": {
            "tags": []
          }
        }
      ]
    },
    {
      "metadata": {
        "id": "0xB5htdyJbxR",
        "colab_type": "code",
        "colab": {}
      },
      "cell_type": "code",
      "source": [
        "def get_wave_norm(file):\n",
        "    with wave.open(file, 'rb') as f:\n",
        "        params = f.getparams()\n",
        "        nchannels, sampwidth, framerate, nframes = params[:4]\n",
        "        data = f.readframes(nframes)\n",
        "#         maxx = 0\n",
        "#         maxx = max(nframes, maxx)\n",
        "        \n",
        "    data = np.fromstring(data, dtype=np.int16)\n",
        "    data = data * 1.0 / max(abs(data))\n",
        "    return data\n",
        "\n",
        "def save_wave(data, file='./save.wav'):\n",
        "    with wave.open(file, 'wb') as outwave:\n",
        "        nchannels = 1\n",
        "        sampwidth = 2\n",
        "        framerate = 16000\n",
        "        nframes = data.shape[0]\n",
        "        comptype = \"NONE\"\n",
        "        compname = \"not compressed\"\n",
        "        outwave.setparams((nchannels, sampwidth, framerate, nframes, comptype, compname))\n",
        "        print(data.shape)\n",
        "        for v in data:\n",
        "            outwave.writeframes(struct.pack('h', int(v * 64000 / 2)))"
      ],
      "execution_count": 0,
      "outputs": []
    },
    {
      "metadata": {
        "id": "kl6qsxXdJlOn",
        "colab_type": "code",
        "outputId": "4ea4470c-a3e2-418c-f12e-8211c1ee5e5b",
        "colab": {
          "base_uri": "https://localhost:8080/",
          "height": 85
        }
      },
      "cell_type": "code",
      "source": [
        "MAX_FRAME = 44100\n",
        "LABELS = ['negative', 'positive']\n",
        "N_CLASS = len(LABELS)\n",
        "\n",
        "file_glob = []\n",
        "for f in glob('training/*.wav'):\n",
        "        #print(f)\n",
        "        file_glob.append(f)\n",
        "file_data = [get_wave_norm(f) for f in file_glob]\n",
        "#print(file_data)"
      ],
      "execution_count": 0,
      "outputs": [
        {
          "output_type": "stream",
          "text": [
            "/usr/local/lib/python3.6/dist-packages/ipykernel_launcher.py:9: DeprecationWarning:\n",
            "\n",
            "The binary mode of fromstring is deprecated, as it behaves surprisingly on unicode inputs. Use frombuffer instead\n",
            "\n"
          ],
          "name": "stderr"
        }
      ]
    },
    {
      "metadata": {
        "id": "y12usT6JKjNr",
        "colab_type": "code",
        "colab": {}
      },
      "cell_type": "code",
      "source": [
        "def add_noise(w):\n",
        "    idx = random.randint(0, file_data.shape[0] - w.shape[0])\n",
        "    w = w + file_data[idx:idx+w.shape[0]] / 5.0\n",
        "    w = w * 1.0 / (max(abs(w)))\n",
        "    return w\n",
        "\n",
        "def get_wave(file):\n",
        "    data = get_wave_norm(file)\n",
        "    \n",
        "#     if random.random() >= 0.5:\n",
        "#         data = add_noise(data)\n",
        "\n",
        "    wave_data = np.zeros((MAX_FRAME, ))\n",
        "    wave_len = min(MAX_FRAME, data.shape[0])\n",
        "    wave_data[:wave_len] = data[:wave_len]\n",
        "    \n",
        "    return np.expand_dims(wave_data, axis=1)\n",
        "\n",
        "# test\n",
        "# x = get_wave('{}/bed/0a7c2a8d_nohash_0.wav'.format(DATA_DIR))\n",
        "# save_wave(x[:,0], 'mix.wav')\n",
        "\n",
        "def gen(batch_size=32, verbose=False):\n",
        "    while True:\n",
        "        X = np.zeros((batch_size, MAX_FRAME, 1), dtype=np.float32)\n",
        "        y = np.zeros((batch_size, N_CLASS), dtype=np.uint8)\n",
        "        \n",
        "        files = np.random.choice(file_glob, batch_size)\n",
        "        if verbose:\n",
        "            print(files)\n",
        "            \n",
        "        for i in range(batch_size):\n",
        "            f = files[i]\n",
        "            X[i] = get_wave(f)\n",
        "            dat = \"training/*.wav\"\n",
        "#             label = f[-6:-4]\n",
        "#             print(label)\n",
        "            cls = f[-10:-7]\n",
        "            #print(cls)\n",
        "            if cls == \"pos\":\n",
        "              label_idx =1\n",
        "            elif cls == \"neg\":\n",
        "              label_idx =0\n",
        "            #print(label_idx)\n",
        "            y[i, label_idx] = 1\n",
        "            \n",
        "        yield X, y\n",
        "def genval(batch_size=32, verbose=False):\n",
        "    while True:\n",
        "        X = np.zeros((batch_size, MAX_FRAME, 1), dtype=np.float32)\n",
        "        y = np.zeros((batch_size, N_CLASS), dtype=np.uint8)\n",
        "        \n",
        "        files = np.random.choice(file_glob, batch_size)\n",
        "        if verbose:\n",
        "            print(files)\n",
        "            \n",
        "        for i in range(batch_size):\n",
        "            f = files[i]\n",
        "            X[i] = get_wave(f)\n",
        "            dat = \"test/*.wav\"\n",
        "#             label = f[-6:-4]\n",
        "#             print(label)\n",
        "            cls = f[-10:-7]\n",
        "            #print(cls)\n",
        "            if cls == \"pos\":\n",
        "              label_idx =1\n",
        "            elif cls == \"neg\":\n",
        "              label_idx =0\n",
        "            #print(label_idx)\n",
        "            y[i, label_idx] = 1\n",
        "            \n",
        "        yield X, y"
      ],
      "execution_count": 0,
      "outputs": []
    },
    {
      "metadata": {
        "id": "81oxKC5DEExF",
        "colab_type": "code",
        "colab": {}
      },
      "cell_type": "code",
      "source": [
        "!mkdir output"
      ],
      "execution_count": 0,
      "outputs": []
    },
    {
      "metadata": {
        "id": "YAqN6P63EKWI",
        "colab_type": "code",
        "outputId": "7bed2065-b5d0-4143-90db-7f8155e52a5d",
        "colab": {
          "base_uri": "https://localhost:8080/",
          "height": 51
        }
      },
      "cell_type": "code",
      "source": [
        "!ls"
      ],
      "execution_count": 0,
      "outputs": [
        {
          "output_type": "stream",
          "text": [
            "adc.json      orca.zip\tpanotti      test      training_\n",
            "OrcaCNN-data  output\tsample_data  training  training.zip\n"
          ],
          "name": "stdout"
        }
      ]
    },
    {
      "metadata": {
        "id": "MN93PLXPK6HJ",
        "colab_type": "code",
        "colab": {}
      },
      "cell_type": "code",
      "source": [
        "from keras.preprocessing.image import ImageDataGenerator\n",
        "\n",
        "def do_train(m):\n",
        "    global RUN\n",
        "    RUN += 1\n",
        "    print(\"RUN {}\".format(RUN))\n",
        "\n",
        "    LOG_DIR = 'output'\n",
        "    LOG_FILE_PATH = LOG_DIR + '/checkpoint-{epoch:02d}-{val_loss:.4f}.hdf5'\n",
        "#     datagen = ImageDataGenerator(\n",
        "#         rescale=1./255,\n",
        "#         validation_split=0.1)\n",
        "\n",
        "#     train_generator = datagen.flow_from_directory(\n",
        "#             'OrcaCNN-data/data/training/', subset='training')\n",
        "\n",
        "#     val_generator = datagen.flow_from_directory(\n",
        "#             'OrcaCNN-data/data/training/', subset='validation')\n",
        "    tensorboard = TensorBoard(log_dir=LOG_DIR, write_graph=False)\n",
        "    checkpoint = ModelCheckpoint(filepath=LOG_FILE_PATH, monitor='val_loss', verbose=1, save_best_only=True)\n",
        "    early_stopping = EarlyStopping(monitor='val_loss', patience=2, verbose=1)\n",
        "    \n",
        "    history = m.fit_generator(generator=gen(32), steps_per_epoch=256,\n",
        "                                  validation_data=genval(10), validation_steps=16,\n",
        "                                  epochs=5, verbose=1, callbacks=[checkpoint, early_stopping])"
      ],
      "execution_count": 0,
      "outputs": []
    },
    {
      "metadata": {
        "id": "u7dgF8V1iWgf",
        "colab_type": "text"
      },
      "cell_type": "markdown",
      "source": [
        "## CNN"
      ]
    },
    {
      "metadata": {
        "id": "5xn_-zIELHHg",
        "colab_type": "code",
        "colab": {}
      },
      "cell_type": "code",
      "source": [
        "def get_conv_model():\n",
        "    m = Sequential()\n",
        "    m.add(Conv1D(filters=64, kernel_size=2, strides=2, padding='valid', activation='relu', input_shape=(MAX_FRAME,1)))\n",
        "    m.add(BatchNormalization())\n",
        "    m.add(Conv1D(filters=64, kernel_size=2, strides=2, padding='valid', activation='relu'))\n",
        "    m.add(BatchNormalization())\n",
        "#     m.add(Conv1D(filters=64, kernel_size=2, strides=2, padding='valid', activation='relu'))\n",
        "#     m.add(BatchNormalization())\n",
        "    m.add(Flatten())\n",
        "#     m.add(GlobalAveragePooling1D())\n",
        "    m.add(Dropout(0.4))\n",
        "    m.add(Dense(N_CLASS, activation='softmax'))\n",
        "    m.compile(loss='binary_crossentropy', optimizer='adadelta', metrics=['accuracy'])\n",
        "    return m"
      ],
      "execution_count": 0,
      "outputs": []
    },
    {
      "metadata": {
        "id": "B8yWUrYOLNxu",
        "colab_type": "code",
        "outputId": "bfc0b2f1-5c80-4412-d786-26683dab3a6d",
        "colab": {
          "base_uri": "https://localhost:8080/",
          "height": 748
        }
      },
      "cell_type": "code",
      "source": [
        "m = get_conv_model()\n",
        "m.summary()\n",
        "do_train(m)"
      ],
      "execution_count": 0,
      "outputs": [
        {
          "output_type": "stream",
          "text": [
            "_________________________________________________________________\n",
            "Layer (type)                 Output Shape              Param #   \n",
            "=================================================================\n",
            "conv1d_17 (Conv1D)           (None, 22050, 64)         192       \n",
            "_________________________________________________________________\n",
            "batch_normalization_17 (Batc (None, 22050, 64)         256       \n",
            "_________________________________________________________________\n",
            "conv1d_18 (Conv1D)           (None, 11025, 64)         8256      \n",
            "_________________________________________________________________\n",
            "batch_normalization_18 (Batc (None, 11025, 64)         256       \n",
            "_________________________________________________________________\n",
            "flatten_9 (Flatten)          (None, 705600)            0         \n",
            "_________________________________________________________________\n",
            "dropout_9 (Dropout)          (None, 705600)            0         \n",
            "_________________________________________________________________\n",
            "dense_9 (Dense)              (None, 2)                 1411202   \n",
            "=================================================================\n",
            "Total params: 1,420,162\n",
            "Trainable params: 1,419,906\n",
            "Non-trainable params: 256\n",
            "_________________________________________________________________\n",
            "RUN 10\n",
            "Epoch 1/5\n"
          ],
          "name": "stdout"
        },
        {
          "output_type": "stream",
          "text": [
            "/usr/local/lib/python3.6/dist-packages/ipykernel_launcher.py:9: DeprecationWarning:\n",
            "\n",
            "The binary mode of fromstring is deprecated, as it behaves surprisingly on unicode inputs. Use frombuffer instead\n",
            "\n"
          ],
          "name": "stderr"
        },
        {
          "output_type": "stream",
          "text": [
            "256/256 [==============================] - 458s 2s/step - loss: 0.7417 - acc: 0.9506 - val_loss: 0.4008 - val_acc: 0.9750\n",
            "\n",
            "Epoch 00001: val_loss improved from inf to 0.40076, saving model to output/checkpoint-01-0.4008.hdf5\n",
            "Epoch 2/5\n",
            "256/256 [==============================] - 465s 2s/step - loss: 0.3522 - acc: 0.9780 - val_loss: 0.3006 - val_acc: 0.9812\n",
            "\n",
            "Epoch 00002: val_loss improved from 0.40076 to 0.30057, saving model to output/checkpoint-02-0.3006.hdf5\n",
            "Epoch 3/5\n",
            "256/256 [==============================] - 452s 2s/step - loss: 0.3405 - acc: 0.9788 - val_loss: 0.6011 - val_acc: 0.9625\n",
            "\n",
            "Epoch 00003: val_loss did not improve from 0.30057\n",
            "Epoch 4/5\n",
            "256/256 [==============================] - 464s 2s/step - loss: 0.3835 - acc: 0.9761 - val_loss: 0.6011 - val_acc: 0.9625\n",
            "\n",
            "Epoch 00004: val_loss did not improve from 0.30057\n",
            "Epoch 00004: early stopping\n"
          ],
          "name": "stdout"
        }
      ]
    },
    {
      "metadata": {
        "id": "ERG3fZ30J-jD",
        "colab_type": "code",
        "colab": {}
      },
      "cell_type": "code",
      "source": [
        "!cd output\n",
        "from google.colab import files\n",
        "files.download('output/checkpoint-03-1.5341.hdf5')"
      ],
      "execution_count": 0,
      "outputs": []
    },
    {
      "metadata": {
        "id": "trL7UlmZ1WgP",
        "colab_type": "code",
        "outputId": "bff40785-a21a-4715-c5f1-d3ffe362d96b",
        "colab": {
          "base_uri": "https://localhost:8080/",
          "height": 34
        }
      },
      "cell_type": "code",
      "source": [
        "!ls output"
      ],
      "execution_count": 0,
      "outputs": [
        {
          "output_type": "stream",
          "text": [
            "checkpoint-01-0.4008.hdf5  checkpoint-02-0.3006.hdf5\n"
          ],
          "name": "stdout"
        }
      ]
    },
    {
      "metadata": {
        "id": "RcX2A4_ficnU",
        "colab_type": "text"
      },
      "cell_type": "markdown",
      "source": [
        "## CNN + RNN(LSTM cells) [Best Model]"
      ]
    },
    {
      "metadata": {
        "id": "5O1lz6mxiHC5",
        "colab_type": "code",
        "outputId": "f10aa90b-3244-47af-ed3c-af61e0ef6701",
        "colab": {
          "base_uri": "https://localhost:8080/",
          "height": 799
        }
      },
      "cell_type": "code",
      "source": [
        "def get_cnn_rnn_model():\n",
        "    ipt = Input(shape=(MAX_FRAME, 1))\n",
        "    x = ipt\n",
        "    x = Conv1D(filters=64, kernel_size=50, strides=50, padding='valid', activation='relu')(x)\n",
        "    x = Conv1D(filters=64, kernel_size=50, strides=50, padding='valid', activation='relu')(x)\n",
        "    x = BatchNormalization()(x)\n",
        "    \n",
        "    # LSTM\n",
        "    x = LSTM(32)(x)\n",
        "    \n",
        "    # double\n",
        "#     x = LSTM(32, return_sequences=True)(x)\n",
        "#     x = LSTM(32, return_sequences=False)(x)\n",
        "    \n",
        "    \n",
        "#     r   = LSTM(32, return_sequences=True, go_backwards=False)(x)\n",
        "#     r_b = LSTM(32, return_sequences=True, go_backwards=True)(x)\n",
        "#     x = concatenate([r, r_b])\n",
        "#     x = Flatten()(x)\n",
        "\n",
        "    x = Dropout(0.3)(x)\n",
        "    x = Dense(N_CLASS, activation='softmax')(x)\n",
        "    \n",
        "    m = Model(inputs=[ipt], outputs=[x])\n",
        "    m.compile(loss='binary_crossentropy', optimizer='adadelta', metrics=['accuracy'])\n",
        "    \n",
        "    return m\n",
        "\n",
        "m = get_cnn_rnn_model()\n",
        "m.summary()\n",
        "do_train(m)"
      ],
      "execution_count": 0,
      "outputs": [
        {
          "output_type": "stream",
          "text": [
            "_________________________________________________________________\n",
            "Layer (type)                 Output Shape              Param #   \n",
            "=================================================================\n",
            "input_1 (InputLayer)         (None, 44100, 1)          0         \n",
            "_________________________________________________________________\n",
            "conv1d_19 (Conv1D)           (None, 882, 64)           3264      \n",
            "_________________________________________________________________\n",
            "conv1d_20 (Conv1D)           (None, 17, 64)            204864    \n",
            "_________________________________________________________________\n",
            "batch_normalization_19 (Batc (None, 17, 64)            256       \n",
            "_________________________________________________________________\n",
            "lstm_1 (LSTM)                (None, 32)                12416     \n",
            "_________________________________________________________________\n",
            "dropout_10 (Dropout)         (None, 32)                0         \n",
            "_________________________________________________________________\n",
            "dense_10 (Dense)             (None, 2)                 66        \n",
            "=================================================================\n",
            "Total params: 220,866\n",
            "Trainable params: 220,738\n",
            "Non-trainable params: 128\n",
            "_________________________________________________________________\n",
            "RUN 11\n",
            "Epoch 1/5\n"
          ],
          "name": "stdout"
        },
        {
          "output_type": "stream",
          "text": [
            "/usr/local/lib/python3.6/dist-packages/ipykernel_launcher.py:9: DeprecationWarning:\n",
            "\n",
            "The binary mode of fromstring is deprecated, as it behaves surprisingly on unicode inputs. Use frombuffer instead\n",
            "\n"
          ],
          "name": "stderr"
        },
        {
          "output_type": "stream",
          "text": [
            "256/256 [==============================] - 468s 2s/step - loss: 0.0216 - acc: 0.9939 - val_loss: 2.2111e-04 - val_acc: 1.0000\n",
            "\n",
            "Epoch 00001: val_loss improved from inf to 0.00022, saving model to output/checkpoint-01-0.0002.hdf5\n",
            "Epoch 2/5\n",
            "256/256 [==============================] - 448s 2s/step - loss: 2.3737e-04 - acc: 1.0000 - val_loss: 4.9358e-05 - val_acc: 1.0000\n",
            "\n",
            "Epoch 00002: val_loss improved from 0.00022 to 0.00005, saving model to output/checkpoint-02-0.0000.hdf5\n",
            "Epoch 3/5\n",
            "256/256 [==============================] - 446s 2s/step - loss: 9.9618e-05 - acc: 1.0000 - val_loss: 2.2128e-05 - val_acc: 1.0000\n",
            "\n",
            "Epoch 00003: val_loss improved from 0.00005 to 0.00002, saving model to output/checkpoint-03-0.0000.hdf5\n",
            "Epoch 4/5\n",
            "256/256 [==============================] - 443s 2s/step - loss: 6.7232e-05 - acc: 1.0000 - val_loss: 1.2859e-05 - val_acc: 1.0000\n",
            "\n",
            "Epoch 00004: val_loss improved from 0.00002 to 0.00001, saving model to output/checkpoint-04-0.0000.hdf5\n",
            "Epoch 5/5\n",
            "256/256 [==============================] - 432s 2s/step - loss: 4.7779e-05 - acc: 1.0000 - val_loss: 9.6733e-06 - val_acc: 1.0000\n",
            "\n",
            "Epoch 00005: val_loss improved from 0.00001 to 0.00001, saving model to output/checkpoint-05-0.0000.hdf5\n"
          ],
          "name": "stdout"
        }
      ]
    },
    {
      "metadata": {
        "id": "gKm51i_2QjPU",
        "colab_type": "code",
        "colab": {}
      },
      "cell_type": "code",
      "source": [
        "from google.colab import files\n",
        "files.download('output/checkpoint-03-0.0000.hdf5')"
      ],
      "execution_count": 0,
      "outputs": []
    },
    {
      "metadata": {
        "id": "yDOPWcFIPT6c",
        "colab_type": "code",
        "colab": {}
      },
      "cell_type": "code",
      "source": [
        "from __future__ import print_function\n",
        "import numpy as np\n",
        "import matplotlib\n",
        "matplotlib.use('Agg')\n",
        "\n",
        "from keras.models import  load_model\n",
        "import matplotlib.pyplot as plt\n",
        "import librosa\n",
        "import os\n",
        "from panotti.models import *\n",
        "from panotti.datautils import *\n",
        "from sklearn.metrics import roc_auc_score, roc_curve, auc\n",
        "from timeit import default_timer as timer\n",
        "\n",
        "\n",
        "def create(n, constructor=list):   # creates an list of empty lists\n",
        "    for _ in range(n):\n",
        "        yield constructor()\n",
        "\n",
        "def count_mistakes(y_scores,Y_test,paths_test,class_names):\n",
        "    n_classes = len(class_names)\n",
        "    mistake_count = np.zeros(n_classes)\n",
        "    mistake_log = list(create(n_classes))\n",
        "    max_string_len = 0\n",
        "    for i in range(Y_test.shape[0]):\n",
        "        pred = decode_class(y_scores[i],class_names)\n",
        "        truth = decode_class(Y_test[i],class_names)\n",
        "        if (pred != truth):\n",
        "            mistake_count[truth] += 1\n",
        "            max_string_len = max( len(paths_test[i]), max_string_len )\n",
        "            mistake_log[truth].append( paths_test[i].ljust(max_string_len)+\": should be \"+class_names[truth]+\n",
        "                \" but came out as \"+class_names[pred])\n",
        "\n",
        "    mistakes_sum = int(np.sum(mistake_count))\n",
        "    print(\"    Found\",mistakes_sum,\"total mistakes out of\",Y_test.shape[0],\"attempts\")\n",
        "    print(\"      Mistakes by class: \")\n",
        "\n",
        "    for i in range(n_classes):\n",
        "        print(\"          class \\'\",class_names[i],\"\\': \",int(mistake_count[i]), sep=\"\")\n",
        "        for j in range(len(mistake_log[i])):\n",
        "            print(\"                  \",mistake_log[i][j])\n",
        "    return\n",
        "\n",
        "\n",
        "def eval_network(weights_file=\"weights.hdf5\", classpath=\"Preproc/Test/\", batch_size=40):\n",
        "    np.random.seed(1)\n",
        "\n",
        "    # get the data\n",
        "    X_test, Y_test, paths_test, class_names = build_dataset(path=classpath, batch_size=batch_size)\n",
        "    print(\"class names = \",class_names)\n",
        "    n_classes = len(class_names)\n",
        "\n",
        "    # Load the model\n",
        "    model, serial_model = setup_model(X_test, class_names, weights_file=weights_file, missing_weights_fatal=True)\n",
        "    model.summary()\n",
        "\n",
        "    num_pred = X_test.shape[0]\n",
        "\n",
        "    print(\"Running predict...\")\n",
        "    y_scores = model.predict(X_test[0:num_pred,:,:,:],batch_size=batch_size)\n",
        "\n",
        "\n",
        "    print(\"Counting mistakes \")\n",
        "    count_mistakes(y_scores,Y_test,paths_test,class_names)\n",
        "\n",
        "    print(\"Measuring ROC...\")\n",
        "    fpr = dict()\n",
        "    tpr = dict()\n",
        "    roc_auc = dict()\n",
        "    for i in range(n_classes):\n",
        "        fpr[i], tpr[i], _ = roc_curve(Y_test[:, i], y_scores[:, i])\n",
        "        roc_auc[i] = auc(fpr[i], tpr[i])\n",
        "\n",
        "    auc_score = roc_auc_score(Y_test, y_scores)\n",
        "    print(\"Global AUC = \",auc_score)\n",
        "\n",
        "    print(\"\\nDrawing ROC curves...\")\n",
        "    fig = plt.figure()\n",
        "    lw = 2                      # line width\n",
        "    for i in range(n_classes):\n",
        "        plt.plot(fpr[i], tpr[i], lw=lw, label=class_names[i]+\": AUC=\"+'{0:.4f}'.format(roc_auc[i]))\n",
        "    plt.plot([0, 1], [0, 1], color='navy', lw=lw, linestyle='--')\n",
        "    plt.xlim([0.0, 1.0])\n",
        "    plt.ylim([0.0, 1.05])\n",
        "    plt.xlabel('False Positive Rate')\n",
        "    plt.ylabel('True Positive Rate')\n",
        "    plt.title('Receiver operating characteristic')\n",
        "    plt.legend(loc=\"lower right\")\n",
        "    plt.draw()\n",
        "    #plt.show(block=False)\n",
        "    roc_filename = \"roc_curves.png\"\n",
        "    print(\"Saving curves to file\",roc_filename)\n",
        "    plt.savefig(roc_filename)\n",
        "    plt.close(fig)\n",
        "    print(\"\")\n",
        "\n",
        "    # evaluate the model\n",
        "    print(\"Running model.evaluate...\")\n",
        "    scores = model.evaluate(X_test, Y_test, verbose=1, batch_size=batch_size)\n",
        "    print('Test loss:', scores[0])\n",
        "    print('Test accuracy:', scores[1])\n",
        "    print(\"All model scores:\")\n",
        "    print(model.metrics_names)\n",
        "    print(scores)\n",
        "\n",
        "    print(\"\\nFinished.\")\n",
        "    #plt.show()\n",
        "    return\n",
        "\n",
        "\n",
        "if __name__ == '__main__':\n",
        "    import argparse\n",
        "    parser = argparse.ArgumentParser(description=\"evaluates network on testing dataset\")\n",
        "    parser.add_argument('-w', '--weights', #nargs=1, type=argparse.FileType('r'),\n",
        "        help='weights file in hdf5 format', default=\"weights.hdf5\")\n",
        "    parser.add_argument('-c', '--classpath', #type=argparse.string,\n",
        "        help='test dataset directory with list of classes', default=\"Preproc/Test/\")\n",
        "    parser.add_argument('--batch_size', default=40, type=int, help=\"Number of clips to send to GPU at once\")\n",
        "\n",
        "    args = parser.parse_args()\n",
        "    eval_network(weights_file=args.weights, classpath=args.classpath, batch_size=args.batch_size)"
      ],
      "execution_count": 0,
      "outputs": []
    },
    {
      "metadata": {
        "id": "0I9IXsB7wuSc",
        "colab_type": "text"
      },
      "cell_type": "markdown",
      "source": [
        "## LSTM with  data augumentation"
      ]
    },
    {
      "metadata": {
        "id": "GvgsxyLzpXPo",
        "colab_type": "code",
        "colab": {}
      },
      "cell_type": "code",
      "source": [
        "m = get_cnn_rnn_model()\n",
        "m.summary()\n",
        "do_train(m)"
      ],
      "execution_count": 0,
      "outputs": []
    },
    {
      "metadata": {
        "id": "8L_eNkupwyn5",
        "colab_type": "code",
        "colab": {}
      },
      "cell_type": "code",
      "source": [
        ""
      ],
      "execution_count": 0,
      "outputs": []
    }
  ]
}